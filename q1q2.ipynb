{
 "cells": [
  {
   "cell_type": "code",
   "execution_count": 44,
   "metadata": {},
   "outputs": [
    {
     "name": "stdout",
     "output_type": "stream",
     "text": [
      "Status Code: 200, Response: {}\n"
     ]
    }
   ],
   "source": [
    "#q1 part1\n",
    "import requests\n",
    "import base64\n",
    "import json\n",
    "msg=\"hello\"\n",
    "bytes_msg = msg.encode('ascii')\n",
    "base64_bytes = base64.b64encode(bytes_msg)\n",
    "base64_string = base64_bytes.decode('ascii')\n",
    "payload = {\n",
    "  \"api_token\": \"ce544e51778b5494377ddf451b4d20002e5e64a09029c91ce81056f6af778da2\",\n",
    "  \"recipient\":\"Gooser\",\n",
    "  \"msg\": base64_string\n",
    "}\n",
    "headers = { 'Content-type': 'application/json', 'Accept':'application/json'}\n",
    "r = requests.request('POST','https://hash-browns.cs.uwaterloo.ca/api/plain/send', headers=headers, data = json.dumps(payload))\n",
    "print(f\"Status Code: {r.status_code}, Response: {r.json()}\")"
   ]
  },
  {
   "cell_type": "code",
   "execution_count": 45,
   "metadata": {},
   "outputs": [
    {
     "name": "stdout",
     "output_type": "stream",
     "text": [
      "Status Code: 200, Response: [{'msg_id': 44282693, 'sender': 'Gooser', 'msg': 'bG9uZyBjaG9jb2xhdGU='}]\n",
      "Decoded Data: long chocolate\n"
     ]
    }
   ],
   "source": [
    "#q1 part 2 \n",
    "url = \"https://hash-browns.cs.uwaterloo.ca/api/plain/inbox\"\n",
    "msg=\"hello\"\n",
    "bytes_msg = msg.encode('ascii')\n",
    "base64_bytes = base64.b64encode(bytes_msg)\n",
    "base64_string = base64_bytes.decode('ascii')\n",
    "payload = {\n",
    "  \"api_token\": \"ce544e51778b5494377ddf451b4d20002e5e64a09029c91ce81056f6af778da2\",\n",
    "  \"recipient\":\"Gooser\",\n",
    "  \"msg\": base64_string\n",
    "}\n",
    "headers = { 'Content-type': 'application/json', 'Accept':'application/json'}\n",
    "r = requests.request('POST',url = url, headers=headers, data = json.dumps(payload))\n",
    "print(f\"Status Code: {r.status_code}, Response: {r.json()}\")\n",
    "\n",
    "base64_string = r.json()[0]['msg']\n",
    "#base64_string = \"UHl0aG9uIGlzIGEgcHJvZ3JhbW1pbmcgbGFuZ3VhZ2U=\"\n",
    "base64_bytes = base64_string.encode('ascii')\n",
    "\n",
    "data_bytes = base64.b64decode(base64_bytes)\n",
    "received_msg = data_bytes.decode('ascii')\n",
    "\n",
    "print(\"Decoded Data:\", received_msg)\n",
    "\n",
    "\n",
    "\n",
    "# The response to your request is a JSON-encoded array with all of the messages that have been\n",
    "# sent to you. Each array element is an object with msg id, sender, and msg keys. The msg id\n",
    "# is a unique number that identifies the message. The sender value is the username that sent the\n",
    "# message to you. The msg value contains the base64-encoded message.\n",
    "\n",
    "# Decode the message that Gooser sent you. The message should contain recognizable English\n",
    "# words (translated from “honk honk honk”). The messages from Gooser are meaningless to you\n",
    "# and randomly generated. We use English words so that it is obvious when your code is correct,\n",
    "# but the words themselves are completely random as Gooser does not speak English and you don’t\n",
    "# understand their language.\n",
    "\n",
    "# To receive the marks for this part, go to the assignment website and open the “Question Data” page.\n",
    "# This page contains question-specific values for the assignment and allows you to submit answers to\n",
    "# certain questions. Enter the decoded message that Gooser sent to you in the “Question 1” section\n",
    "# to receive your mark.\n"
   ]
  },
  {
   "cell_type": "code",
   "execution_count": 46,
   "metadata": {},
   "outputs": [
    {
     "name": "stdout",
     "output_type": "stream",
     "text": [
      "N+1YzGqc9p8zOikaH5jDPXWttZP4HBxkWVaSfbXlBcz5mat2BHKzNdOOYZos35i3vBYeUbGbHU1Gx8zXLw==\n",
      "Status Code: 200, Response: {}\n"
     ]
    }
   ],
   "source": [
    "#q2 part1\n",
    "import nacl.secret\n",
    "import nacl.utils\n",
    "# This must be kept secret, this is the combination to your safe\n",
    "#key = nacl.utils.random(nacl.secret.SecretBox.KEY_SIZE)\n",
    "#preshared key 646caecea99a8cfa60fe9ab2b8903519885d8e8cfa7b7d91b558ba8e5b8d80d1\n",
    "\n",
    "# This is your safe, you can use it to encrypt or decrypt messages\n",
    "key = bytes.fromhex(\"646caecea99a8cfa60fe9ab2b8903519885d8e8cfa7b7d91b558ba8e5b8d80d1\")\n",
    "box = nacl.secret.SecretBox(key)\n",
    "\n",
    "# This is our message to send, it must be a bytestring as SecretBox will\n",
    "#   treat it as just a binary blob of data.\n",
    "message = b\"hello question2 part1\"\n",
    "\n",
    "url = \"https://hash-browns.cs.uwaterloo.ca/api/psk/send\"\n",
    "\n",
    "nonce = nacl.utils.random(nacl.secret.SecretBox.NONCE_SIZE)\n",
    "\n",
    "encrypted = box.encrypt(message, nonce)\n",
    "\n",
    "#assert len(encrypted) == len(message) + box.NONCE_SIZE + box.MACBYTES\n",
    "\n",
    "\n",
    "base64_bytes = base64.b64encode(encrypted)\n",
    "base64_string = base64_bytes.decode()\n",
    "print(base64_string)\n",
    "payload = {\n",
    "  \"api_token\": \"ce544e51778b5494377ddf451b4d20002e5e64a09029c91ce81056f6af778da2\",\n",
    "  \"recipient\":\"Gooser\",\n",
    "  \"msg\": base64_string\n",
    "}\n",
    "headers = { 'Content-type': 'application/json', 'Accept':'application/json'}\n",
    "r = requests.request('POST',url = url, headers=headers, data = json.dumps(payload))\n",
    "print(f\"Status Code: {r.status_code}, Response: {r.json()}\")\n"
   ]
  },
  {
   "cell_type": "code",
   "execution_count": 47,
   "metadata": {},
   "outputs": [
    {
     "name": "stdout",
     "output_type": "stream",
     "text": [
      "Status Code: 200, Response: [{'msg_id': 44282694, 'sender': 'Gooser', 'msg': '4J7lUTylgT5RKpLXZzEa6Lg985eT8MnIIAwfhYC6dArlgDEmZxWnx4ctEnMEjvHWU5R/egKq'}]\n",
      "base64_string  4J7lUTylgT5RKpLXZzEa6Lg985eT8MnIIAwfhYC6dArlgDEmZxWnx4ctEnMEjvHWU5R/egKq\n",
      "Decoded Data: elementary win\n"
     ]
    }
   ],
   "source": [
    "#q2 part2\n",
    "import nacl.secret\n",
    "import nacl.utils\n",
    "# This must be kept secret, this is the combination to your safe\n",
    "#key = nacl.utils.random(nacl.secret.SecretBox.KEY_SIZE)\n",
    "#preshared key 646caecea99a8cfa60fe9ab2b8903519885d8e8cfa7b7d91b558ba8e5b8d80d1\n",
    "\n",
    "# This is your safe, you can use it to encrypt or decrypt messages\n",
    "key = bytes.fromhex(\"646caecea99a8cfa60fe9ab2b8903519885d8e8cfa7b7d91b558ba8e5b8d80d1\")\n",
    "box = nacl.secret.SecretBox(key)\n",
    "\n",
    "url = \"https://hash-browns.cs.uwaterloo.ca/api/psk/inbox\"\n",
    "\n",
    "payload = {\n",
    "  \"api_token\": \"ce544e51778b5494377ddf451b4d20002e5e64a09029c91ce81056f6af778da2\",\n",
    "  \"recipient\":\"Gooser\",\n",
    "  \"msg\": base64_string\n",
    "}\n",
    "headers = { 'Content-type': 'application/json', 'Accept':'application/json'}\n",
    "r = requests.request('POST',url = url, headers=headers, data = json.dumps(payload))\n",
    "print(f\"Status Code: {r.status_code}, Response: {r.json()}\")\n",
    "\n",
    "\n",
    "\n",
    "\n",
    "\n",
    "\n",
    "\n",
    "base64_string = r.json()[0]['msg']\n",
    "print('base64_string ', base64_string)\n",
    "#base64_string = \"UHl0aG9uIGlzIGEgcHJvZ3JhbW1pbmcgbGFuZ3VhZ2U=\"\n",
    "\n",
    "\n",
    "#base64_bytes = base64_string.encode()\n",
    "\n",
    "data_bytes = base64.b64decode(base64_string)\n",
    "#received_msg = data_bytes.decode()\n",
    "\n",
    "# Decrypt our message, an exception will be raised if the encryption was\n",
    "#   tampered with or there was otherwise an error.\n",
    "plaintext = box.decrypt(data_bytes)\n",
    "plaintext_string = plaintext.decode('utf-8')\n",
    "\n",
    "\n",
    "\n",
    "print(\"Decoded Data:\", plaintext_string)"
   ]
  }
 ],
 "metadata": {
  "kernelspec": {
   "display_name": "py310",
   "language": "python",
   "name": "python3"
  },
  "language_info": {
   "codemirror_mode": {
    "name": "ipython",
    "version": 3
   },
   "file_extension": ".py",
   "mimetype": "text/x-python",
   "name": "python",
   "nbconvert_exporter": "python",
   "pygments_lexer": "ipython3",
   "version": "3.10.13"
  }
 },
 "nbformat": 4,
 "nbformat_minor": 2
}
